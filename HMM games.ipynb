{
 "cells": [
  {
   "cell_type": "markdown",
   "metadata": {},
   "source": [
    "### Цель этого ноутбука - проверить как работает библиотека hmmlearn, написанная на python"
   ]
  },
  {
   "cell_type": "code",
   "execution_count": 157,
   "metadata": {},
   "outputs": [
    {
     "name": "stdout",
     "output_type": "stream",
     "text": [
      "MultinomialHMM(algorithm='viterbi', init_params='ste', n_components=2,\n",
      "        n_iter=50, params='s', random_state=None,\n",
      "        startprob_prior=array([0.5, 0.5]), tol=0.01,\n",
      "        transmat_prior=array([[0.8, 0.2],\n",
      "       [0.3, 0.7]]),\n",
      "        verbose=False)\n"
     ]
    }
   ],
   "source": [
    "from hmmlearn import hmm\n",
    "from hmmlearn import base\n",
    "import numpy as np\n",
    "\n",
    "#Проверять будем загружая сгенерированные данные одной моделью в другую модель в виде обучающей выборки\n",
    "#В моем идеальном понимании обученная вторая модель по выбросам первой должна дать матрицу переходных вероятностей\n",
    "#между состояниями очень близко похожую на матрицу этих вероятностей у первой модели\n",
    "\n",
    "\n",
    "##Вводные данные:\n",
    "#Модель скрытых марковских цепей всегда описывается тремя вещами: \n",
    "#transition matrix - матрица N x N переходных вероятностей между скрытыми состояниями\n",
    "#emission matrix - матрица N x M вероятностей между скрытыми состояниями и наблюдаемыми выбросамими\n",
    "#pi или startprob - вектор начальных вероятостей состояний, пока непонятно зачем, идем дальше\n",
    "\n",
    "#transition matrix\n",
    "tr =np.array([[0.8, 0.2],\n",
    "          [0.3, 0.7]])\n",
    "\n",
    "#emission matrix\n",
    "em = np.array([[0.3,0.7,0.0,0.0],\n",
    "              [0.0,0.0,0.1,0.9]])\n",
    "\n",
    "#startprob vector\n",
    "startpr = np.array([0.5,0.5])\n",
    "\n",
    "\n",
    "#создаю модель Скрытых Марковских Цепей с дискретными выбросами\n",
    "mod = hmm.MultinomialHMM(n_components=2, transmat_prior=tr, \n",
    "                        startprob_prior=startpr, n_iter=50, \n",
    "                         init_params='ste',\n",
    "                         params='s')\n",
    "\n",
    "\n",
    "#Интересная вещь, что emission матрицу нельзя задать при инициализации модели. \n",
    "#Почему? Мне непонятно. Но можно задать как атрибут.\n",
    "mod.emissionprob_= em\n",
    "\n",
    "#стартовый вектор тоже задается как атрибут\n",
    "mod.startprob_=startpr\n",
    "\n",
    "#смотрим, что модель нормально взяла данные, однако emission по прежнему не видно\n",
    "print(mod)"
   ]
  },
  {
   "cell_type": "code",
   "execution_count": 158,
   "metadata": {},
   "outputs": [],
   "source": [
    "#если попытаться проверить модель встроенной функцией, то она выдаст ошибку, что нет атрибута transmat_\n",
    "#Это вызывает вопросы, потому что на самом деле мы уже передали в модель эту матрицу, зачем\n",
    "#ее еще раз прописывать как атрибут мне снова не понятно, но ладно\n",
    "\n",
    "mod.transmat_ = tr\n",
    "mod._check()"
   ]
  },
  {
   "cell_type": "markdown",
   "metadata": {},
   "source": [
    "### Генерируем данные из первой готовой модели"
   ]
  },
  {
   "cell_type": "code",
   "execution_count": 159,
   "metadata": {},
   "outputs": [],
   "source": [
    "#модель готова, теперь она может генерировать как скрытые сосотояния, так и наблюдения или выбросы\n",
    "#произведем генерацию\n",
    "\n",
    "emis = 10*[8]\n",
    "hidden = 10*[9]\n",
    "\n",
    "#генерим 10 пар массивов из скрытых состояний и наблюдений с длиной от 10 до 100\n",
    "for i in range(0,10):\n",
    "    emis[i], hidden[i] = mod.sample(10*(i+1))\n",
    "\n",
    "    \n",
    "#подготовка данных к нужному формату для обучения второй модели    \n",
    "X = np.array(emis[0])\n",
    "lengths = [len(array) for array in emis]\n",
    "\n",
    "for array in emis:\n",
    "    X = np.concatenate([X, array])"
   ]
  },
  {
   "cell_type": "markdown",
   "metadata": {},
   "source": [
    "### Создаем вторую модель и обучаем ее"
   ]
  },
  {
   "cell_type": "code",
   "execution_count": 160,
   "metadata": {},
   "outputs": [],
   "source": [
    "#Создаем вторую модель, котрая будет обучаться на данных из первой модели\n",
    "#задаем количество скрытых состояний равное первой модели, т.е. 2, стартовый вектор\n",
    "\n",
    "decodmod = hmm.MultinomialHMM(n_components=2, startprob_prior=startpr, \n",
    "                              n_iter=50,params='ste')\n"
   ]
  },
  {
   "cell_type": "code",
   "execution_count": 161,
   "metadata": {},
   "outputs": [
    {
     "data": {
      "text/plain": [
       "MultinomialHMM(algorithm='viterbi', init_params='ste', n_components=2,\n",
       "        n_iter=50, params='ste',\n",
       "        random_state=<mtrand.RandomState object at 0x10979ad38>,\n",
       "        startprob_prior=array([0.5, 0.5]), tol=0.01, transmat_prior=1.0,\n",
       "        verbose=False)"
      ]
     },
     "execution_count": 161,
     "metadata": {},
     "output_type": "execute_result"
    }
   ],
   "source": [
    "#!!!!!!!!!!!!!!!!!!Обучаем!!!!!!!!!!!!!!!!!!!!!!\n",
    "decodmod.fit(X,lengths)"
   ]
  },
  {
   "cell_type": "markdown",
   "metadata": {},
   "source": [
    "### Сравниваем результаты"
   ]
  },
  {
   "cell_type": "code",
   "execution_count": 162,
   "metadata": {},
   "outputs": [
    {
     "name": "stdout",
     "output_type": "stream",
     "text": [
      "-570.5558487436765 \n",
      "\n",
      "[[0.84228488 0.15771512]\n",
      " [0.28429487 0.71570513]] \n",
      "\n",
      "[[0.8 0.2]\n",
      " [0.3 0.7]]\n"
     ]
    }
   ],
   "source": [
    "print(decodmod.score(X), '\\n')\n",
    "print(decodmod.transmat_, '\\n')\n",
    "print(tr)"
   ]
  },
  {
   "cell_type": "code",
   "execution_count": null,
   "metadata": {},
   "outputs": [],
   "source": []
  }
 ],
 "metadata": {
  "kernelspec": {
   "display_name": "Python 3",
   "language": "python",
   "name": "python3"
  },
  "language_info": {
   "codemirror_mode": {
    "name": "ipython",
    "version": 3
   },
   "file_extension": ".py",
   "mimetype": "text/x-python",
   "name": "python",
   "nbconvert_exporter": "python",
   "pygments_lexer": "ipython3",
   "version": "3.6.4"
  }
 },
 "nbformat": 4,
 "nbformat_minor": 2
}
